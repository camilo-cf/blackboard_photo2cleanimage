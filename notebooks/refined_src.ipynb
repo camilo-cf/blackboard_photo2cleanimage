{
 "cells": [
  {
   "cell_type": "code",
   "execution_count": 1,
   "metadata": {},
   "outputs": [
    {
     "name": "stderr",
     "output_type": "stream",
     "text": [
      "/tmp/ipykernel_121979/4193700387.py:25: FutureWarning: `multichannel` is a deprecated argument name for `denoise_bilateral`. It will be removed in version 1.0. Please use `channel_axis` instead.\n",
      "  binary_local = denoise_bilateral(binary_local, sigma_color=0.4, sigma_spatial=5, multichannel=False)\n",
      "Lossy conversion from float64 to uint8. Range [0, 1]. Convert image to uint8 prior to saving to suppress this warning.\n"
     ]
    }
   ],
   "source": [
    "from skimage.exposure import equalize_adapthist\n",
    "from skimage.exposure import rescale_intensity\n",
    "from skimage.filters import threshold_local\n",
    "from skimage.io import imread\n",
    "from skimage.io import imsave\n",
    "from skimage.restoration import denoise_bilateral\n",
    "\n",
    "img = imread(\"../data/raw/test.jpg\", as_gray=True)\n",
    "\n",
    "# Set the block size to 55 - this number is set each 5. Ex 5, 15, 25, 105, 55, 2005 ... \n",
    "BLOCK_SIZE = 255\n",
    "\n",
    "# Process image\n",
    "image_adapteq = equalize_adapthist(img)\n",
    "image_adapteq = rescale_intensity(image_adapteq, out_range=(0, 1))\n",
    "img = image_adapteq*255\n",
    "del image_adapteq\n",
    "\n",
    "# Obtain the optimal local thresholding\n",
    "img = (img-255)*-1\n",
    "local_thresh = threshold_local(img, BLOCK_SIZE, offset=35)\n",
    "# Apply local thresholding and obtain the binary image\n",
    "binary_local = img > local_thresh\n",
    "del local_thresh \n",
    "binary_local = denoise_bilateral(binary_local, sigma_color=0.4, sigma_spatial=5, multichannel=False)\n",
    "imsave(\"result.jpg\", binary_local) "
   ]
  }
 ],
 "metadata": {
  "interpreter": {
   "hash": "180c572b498ca9fa8f1350622ebddb98f30cb99974536d8b5f53a7400d14f532"
  },
  "kernelspec": {
   "display_name": "Python 3.8.12 ('images')",
   "language": "python",
   "name": "python3"
  },
  "language_info": {
   "codemirror_mode": {
    "name": "ipython",
    "version": 3
   },
   "file_extension": ".py",
   "mimetype": "text/x-python",
   "name": "python",
   "nbconvert_exporter": "python",
   "pygments_lexer": "ipython3",
   "version": "3.8.12"
  },
  "orig_nbformat": 4
 },
 "nbformat": 4,
 "nbformat_minor": 2
}
